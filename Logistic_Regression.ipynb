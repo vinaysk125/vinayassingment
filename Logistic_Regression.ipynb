{
  "nbformat": 4,
  "nbformat_minor": 0,
  "metadata": {
    "colab": {
      "name": "Logistic_Regression.ipynb",
      "provenance": [],
      "collapsed_sections": [],
      "include_colab_link": true
    },
    "kernelspec": {
      "name": "python3",
      "display_name": "Python 3"
    }
  },
  "cells": [
    {
      "cell_type": "markdown",
      "metadata": {
        "id": "view-in-github",
        "colab_type": "text"
      },
      "source": [
        "<a href=\"https://colab.research.google.com/github/vinaysk125/vinayassingment/blob/main/Logistic_Regression.ipynb\" target=\"_parent\"><img src=\"https://colab.research.google.com/assets/colab-badge.svg\" alt=\"Open In Colab\"/></a>"
      ]
    },
    {
      "cell_type": "code",
      "metadata": {
        "id": "KzfYcEhPj9Na"
      },
      "source": [
        "import pandas as pd\n",
        "import numpy as np\n",
        "import seaborn as sns"
      ],
      "execution_count": 1,
      "outputs": []
    },
    {
      "cell_type": "code",
      "metadata": {
        "colab": {
          "base_uri": "https://localhost:8080/",
          "height": 203
        },
        "id": "BI2n_zFAlAWS",
        "outputId": "b8bdc2f5-88e0-48cf-b259-1c0ef002e6cf"
      },
      "source": [
        "dataset = pd.read_csv(\"/content/chd-201015-202131.csv\")\n",
        "dataset.head()"
      ],
      "execution_count": 2,
      "outputs": [
        {
          "output_type": "execute_result",
          "data": {
            "text/html": [
              "<div>\n",
              "<style scoped>\n",
              "    .dataframe tbody tr th:only-of-type {\n",
              "        vertical-align: middle;\n",
              "    }\n",
              "\n",
              "    .dataframe tbody tr th {\n",
              "        vertical-align: top;\n",
              "    }\n",
              "\n",
              "    .dataframe thead th {\n",
              "        text-align: right;\n",
              "    }\n",
              "</style>\n",
              "<table border=\"1\" class=\"dataframe\">\n",
              "  <thead>\n",
              "    <tr style=\"text-align: right;\">\n",
              "      <th></th>\n",
              "      <th>Obs</th>\n",
              "      <th>ID</th>\n",
              "      <th>AGE</th>\n",
              "      <th>agrp</th>\n",
              "      <th>CHD</th>\n",
              "    </tr>\n",
              "  </thead>\n",
              "  <tbody>\n",
              "    <tr>\n",
              "      <th>0</th>\n",
              "      <td>1</td>\n",
              "      <td>1</td>\n",
              "      <td>20</td>\n",
              "      <td>1</td>\n",
              "      <td>0</td>\n",
              "    </tr>\n",
              "    <tr>\n",
              "      <th>1</th>\n",
              "      <td>2</td>\n",
              "      <td>2</td>\n",
              "      <td>23</td>\n",
              "      <td>1</td>\n",
              "      <td>0</td>\n",
              "    </tr>\n",
              "    <tr>\n",
              "      <th>2</th>\n",
              "      <td>3</td>\n",
              "      <td>3</td>\n",
              "      <td>24</td>\n",
              "      <td>1</td>\n",
              "      <td>0</td>\n",
              "    </tr>\n",
              "    <tr>\n",
              "      <th>3</th>\n",
              "      <td>4</td>\n",
              "      <td>4</td>\n",
              "      <td>25</td>\n",
              "      <td>1</td>\n",
              "      <td>0</td>\n",
              "    </tr>\n",
              "    <tr>\n",
              "      <th>4</th>\n",
              "      <td>5</td>\n",
              "      <td>5</td>\n",
              "      <td>25</td>\n",
              "      <td>1</td>\n",
              "      <td>1</td>\n",
              "    </tr>\n",
              "  </tbody>\n",
              "</table>\n",
              "</div>"
            ],
            "text/plain": [
              "   Obs  ID  AGE  agrp  CHD\n",
              "0    1   1   20     1    0\n",
              "1    2   2   23     1    0\n",
              "2    3   3   24     1    0\n",
              "3    4   4   25     1    0\n",
              "4    5   5   25     1    1"
            ]
          },
          "metadata": {
            "tags": []
          },
          "execution_count": 2
        }
      ]
    },
    {
      "cell_type": "code",
      "metadata": {
        "colab": {
          "base_uri": "https://localhost:8080/",
          "height": 260
        },
        "id": "VMoAZ4OhlJ0W",
        "outputId": "5100e1ae-c54c-4767-eb2b-384153afa986"
      },
      "source": [
        "sns.scatterplot(x = \"AGE\", y= \"CHD\", data=dataset)"
      ],
      "execution_count": 3,
      "outputs": [
        {
          "output_type": "execute_result",
          "data": {
            "text/plain": [
              "<matplotlib.axes._subplots.AxesSubplot at 0x7f8bf29c24e0>"
            ]
          },
          "metadata": {
            "tags": []
          },
          "execution_count": 3
        },
        {
          "output_type": "display_data",
          "data": {
            "image/png": "[encoded data removed]",
            "text/plain": [
              "<Figure size 432x288 with 1 Axes>"
            ]
          },
          "metadata": {
            "tags": [],
            "needs_background": "light"
          }
        }
      ]
    },
    {
      "cell_type": "code",
      "metadata": {
        "colab": {
          "base_uri": "https://localhost:8080/"
        },
        "id": "O0kYufRqlylP",
        "outputId": "96f90399-8fdb-482f-e3af-248dffa62360"
      },
      "source": [
        "import statsmodels.api as sm\n",
        "y= dataset['CHD']\n",
        "X = sm.add_constant(dataset[['AGE']])\n",
        "logit_model=sm.Logit(y,X)\n",
        "result=logit_model.fit()\n",
        "print(result.summary2())"
      ],
      "execution_count": 4,
      "outputs": [
        {
          "output_type": "stream",
          "text": [
            "/usr/local/lib/python3.6/dist-packages/statsmodels/tools/_testing.py:19: FutureWarning: pandas.util.testing is deprecated. Use the functions in the public API at pandas.testing instead.\n",
            "  import pandas.util.testing as tm\n"
          ],
          "name": "stderr"
        },
        {
          "output_type": "stream",
          "text": [
            "Optimization terminated successfully.\n",
            "         Current function value: 0.536765\n",
            "         Iterations 6\n",
            "                         Results: Logit\n",
            "=================================================================\n",
            "Model:              Logit            Pseudo R-squared: 0.214     \n",
            "Dependent Variable: CHD              AIC:              111.3531  \n",
            "Date:               2020-11-20 14:23 BIC:              116.5634  \n",
            "No. Observations:   100              Log-Likelihood:   -53.677   \n",
            "Df Model:           1                LL-Null:          -68.331   \n",
            "Df Residuals:       98               LLR p-value:      6.1680e-08\n",
            "Converged:          1.0000           Scale:            1.0000    \n",
            "No. Iterations:     6.0000                                       \n",
            "-------------------------------------------------------------------\n",
            "           Coef.    Std.Err.      z      P>|z|     [0.025    0.975]\n",
            "-------------------------------------------------------------------\n",
            "const     -5.3095     1.1337   -4.6835   0.0000   -7.5314   -3.0875\n",
            "AGE        0.1109     0.0241    4.6102   0.0000    0.0638    0.1581\n",
            "=================================================================\n",
            "\n"
          ],
          "name": "stdout"
        }
      ]
    },
    {
      "cell_type": "code",
      "metadata": {
        "colab": {
          "base_uri": "https://localhost:8080/"
        },
        "id": "BshNJX8pmMi0",
        "outputId": "d143dedb-86ce-47de-8269-d5a9de0f7af0"
      },
      "source": [
        "from sklearn.linear_model import LogisticRegression\n",
        "from sklearn import metrics\n",
        "\n",
        "logreg = LogisticRegression()\n",
        "logreg.fit(X, y)"
      ],
      "execution_count": 5,
      "outputs": [
        {
          "output_type": "execute_result",
          "data": {
            "text/plain": [
              "LogisticRegression(C=1.0, class_weight=None, dual=False, fit_intercept=True,\n",
              "                   intercept_scaling=1, l1_ratio=None, max_iter=100,\n",
              "                   multi_class='auto', n_jobs=None, penalty='l2',\n",
              "                   random_state=None, solver='lbfgs', tol=0.0001, verbose=0,\n",
              "                   warm_start=False)"
            ]
          },
          "metadata": {
            "tags": []
          },
          "execution_count": 5
        }
      ]
    },
    {
      "cell_type": "code",
      "metadata": {
        "colab": {
          "base_uri": "https://localhost:8080/"
        },
        "id": "1e43JM9GmQwL",
        "outputId": "23ef37fc-70ee-4e7d-bd4c-11ec815d8914"
      },
      "source": [
        "y_pred = logreg.predict(X)\n",
        "print('Accuracy of logistic regression classifier on test set: {:.2f}'.format(logreg.score(X, y)))"
      ],
      "execution_count": 6,
      "outputs": [
        {
          "output_type": "stream",
          "text": [
            "Accuracy of logistic regression classifier on test set: 0.74\n"
          ],
          "name": "stdout"
        }
      ]
    },
    {
      "cell_type": "code",
      "metadata": {
        "colab": {
          "base_uri": "https://localhost:8080/"
        },
        "id": "UJNzmgQCmSV3",
        "outputId": "c142d28f-490e-4abd-9e03-c88d41037890"
      },
      "source": [
        "from sklearn.metrics import confusion_matrix\n",
        "confusion_matrix = confusion_matrix(y, y_pred)\n",
        "print(confusion_matrix)"
      ],
      "execution_count": 7,
      "outputs": [
        {
          "output_type": "stream",
          "text": [
            "[[45 12]\n",
            " [14 29]]\n"
          ],
          "name": "stdout"
        }
      ]
    },
    {
      "cell_type": "code",
      "metadata": {
        "colab": {
          "base_uri": "https://localhost:8080/"
        },
        "id": "LB8rD_YPmUI6",
        "outputId": "6a4577a6-2ff2-4eb3-bc80-dc2bb8b34bdf"
      },
      "source": [
        "from sklearn.metrics import classification_report\n",
        "print(classification_report(y, y_pred))"
      ],
      "execution_count": 8,
      "outputs": [
        {
          "output_type": "stream",
          "text": [
            "              precision    recall  f1-score   support\n",
            "\n",
            "           0       0.76      0.79      0.78        57\n",
            "           1       0.71      0.67      0.69        43\n",
            "\n",
            "    accuracy                           0.74       100\n",
            "   macro avg       0.74      0.73      0.73       100\n",
            "weighted avg       0.74      0.74      0.74       100\n",
            "\n"
          ],
          "name": "stdout"
        }
      ]
    },
    {
      "cell_type": "code",
      "metadata": {
        "colab": {
          "base_uri": "https://localhost:8080/",
          "height": 231
        },
        "id": "r1Bm-iCqmV96",
        "outputId": "c6161f3a-e354-485e-b7a4-7b4b1ecf0928"
      },
      "source": [
        "from sklearn.metrics import roc_auc_score\n",
        "from sklearn.metrics import roc_curve\n",
        "import matplotlib.pyplot as plt\n",
        "logit_roc_auc = roc_auc_score(y, logreg.predict(X))\n",
        "fpr, tpr, thresholds = roc_curve(y, logreg.predict_proba(X)[:,1])\n",
        "plt.figure()\n",
        "plt.plot(fpr, tpr, label='Logistic Regression (area = %0.2f)' % logit_roc_auc)\n",
        "plt.plot([0, 1], [0, 1],'r--')\n",
        "plt.xlim([0.0, 1.0])\n",
        "plt.ylim([0.0, 1.05])\n",
        "plt.xlabel('False Positive Rate')\n",
        "plt.ylabel('True Positive Rate')\n",
        "plt.title('Receiver operating characteristic')\n",
        "plt.legend(loc=\"lower right\")\n",
        "plt.savefig('Log_ROC')\n",
        "plt.show()"
      ],
      "execution_count": 9,
      "outputs": [
        {
          "output_type": "display_data",
          "data": {
            "image/png": "[encoded data removed]",
            "text/plain": [
              "<Figure size 432x288 with 1 Axes>"
            ]
          },
          "metadata": {
            "tags": [],
            "needs_background": "light"
          }
        }
      ]
    }
  ]
}